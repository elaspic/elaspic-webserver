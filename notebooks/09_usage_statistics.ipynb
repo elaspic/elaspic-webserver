{
 "cells": [
  {
   "cell_type": "markdown",
   "metadata": {},
   "source": [
    "## Summary\n",
    "\n",
    "***Start port forwarding to the ELASPIC webserver machine:***\n",
    "\n",
    "```bash\n",
    "ssh -nNL 8001:localhost:8001 kimadmin@192.168.6.153\n",
    "```"
   ]
  },
  {
   "cell_type": "markdown",
   "metadata": {},
   "source": [
    "## Imports"
   ]
  },
  {
   "cell_type": "code",
   "execution_count": null,
   "metadata": {},
   "outputs": [],
   "source": [
    "import os\n",
    "import shlex\n",
    "import subprocess\n",
    "from datetime import datetime\n",
    "\n",
    "import altair as alt\n",
    "import pandas as pd\n",
    "import sqlalchemy as sa\n",
    "from dotenv import load_dotenv"
   ]
  },
  {
   "cell_type": "code",
   "execution_count": null,
   "metadata": {},
   "outputs": [],
   "source": [
    "pd.set_option(\"max_rows\", 1000)\n",
    "pd.set_option(\"max_columns\", 1000)"
   ]
  },
  {
   "cell_type": "code",
   "execution_count": null,
   "metadata": {},
   "outputs": [],
   "source": [
    "load_dotenv(\"../.env.prod\")"
   ]
  },
  {
   "cell_type": "markdown",
   "metadata": {},
   "source": [
    "## Parameters"
   ]
  },
  {
   "cell_type": "code",
   "execution_count": null,
   "metadata": {},
   "outputs": [],
   "source": [
    "import sys\n",
    "\n",
    "sys.executable"
   ]
  },
  {
   "cell_type": "markdown",
   "metadata": {},
   "source": [
    "## Load data"
   ]
  },
  {
   "cell_type": "code",
   "execution_count": null,
   "metadata": {},
   "outputs": [],
   "source": [
    "DB_USER = os.environ[\"DB_USER\"]\n",
    "DB_PASSWORD = os.environ[\"DB_PASSWORD\"]\n",
    "DB_HOST = os.environ[\"DB_HOST\"]\n",
    "DB_PORT = os.environ[\"DB_PORT\"]\n",
    "DB_NAME = os.environ[\"DB_NAME\"]\n",
    "\n",
    "engine = sa.create_engine(f\"mysql://{DB_USER}:{DB_PASSWORD}@{DB_HOST}:{DB_PORT}/{DB_NAME}\")"
   ]
  },
  {
   "cell_type": "markdown",
   "metadata": {},
   "source": [
    "#### `jobs_df`"
   ]
  },
  {
   "cell_type": "code",
   "execution_count": null,
   "metadata": {},
   "outputs": [],
   "source": [
    "sql_query = \"\"\"\\\n",
    "SELECT *\n",
    "FROM `elaspic_webserver`.jobs\n",
    "\"\"\"\n",
    "\n",
    "jobs_df = pd.read_sql_query(sql_query, engine)"
   ]
  },
  {
   "cell_type": "code",
   "execution_count": null,
   "metadata": {},
   "outputs": [],
   "source": [
    "jobs_df[\"status\"] = jobs_df[\"isDone\"].map({0: \"not done\", 1: \"done\"})"
   ]
  },
  {
   "cell_type": "code",
   "execution_count": null,
   "metadata": {},
   "outputs": [],
   "source": [
    "display(jobs_df.head())"
   ]
  },
  {
   "cell_type": "code",
   "execution_count": null,
   "metadata": {},
   "outputs": [],
   "source": [
    "len(jobs_df)  # 8325 10320"
   ]
  },
  {
   "cell_type": "markdown",
   "metadata": {},
   "source": [
    "#### `job_to_mut_df`"
   ]
  },
  {
   "cell_type": "code",
   "execution_count": null,
   "metadata": {},
   "outputs": [],
   "source": [
    "sql_query = \"\"\"\\\n",
    "SELECT *\n",
    "FROM `elaspic_webserver`.job_to_mut\n",
    "\"\"\"\n",
    "\n",
    "job_to_mut_df = pd.read_sql_query(sql_query, engine)"
   ]
  },
  {
   "cell_type": "code",
   "execution_count": null,
   "metadata": {},
   "outputs": [],
   "source": [
    "display(job_to_mut_df.head())"
   ]
  },
  {
   "cell_type": "markdown",
   "metadata": {},
   "source": [
    "#### `muts_df`"
   ]
  },
  {
   "cell_type": "code",
   "execution_count": null,
   "metadata": {},
   "outputs": [],
   "source": [
    "sql_query = \"\"\"\\\n",
    "SELECT *\n",
    "FROM `elaspic_webserver`.muts\n",
    "\"\"\"\n",
    "\n",
    "muts_df = pd.read_sql_query(sql_query, engine)"
   ]
  },
  {
   "cell_type": "code",
   "execution_count": null,
   "metadata": {},
   "outputs": [],
   "source": [
    "display(muts_df.head())"
   ]
  },
  {
   "cell_type": "code",
   "execution_count": null,
   "metadata": {},
   "outputs": [],
   "source": [
    "len(muts_df)  # 108524 212734"
   ]
  },
  {
   "cell_type": "markdown",
   "metadata": {},
   "source": [
    "## Make plots"
   ]
  },
  {
   "cell_type": "code",
   "execution_count": null,
   "metadata": {},
   "outputs": [],
   "source": [
    "alt.data_transformers.disable_max_rows()"
   ]
  },
  {
   "cell_type": "markdown",
   "metadata": {},
   "source": [
    "### All time"
   ]
  },
  {
   "cell_type": "code",
   "execution_count": null,
   "metadata": {},
   "outputs": [],
   "source": [
    "alt.Chart(jobs_df).mark_bar().encode(\n",
    "    #\n",
    "    x=\"yearmonth(dateRun):T\",\n",
    "    y=alt.Y(\"count():T\", title=\"Number of jobs\"),\n",
    "    color=\"status\",\n",
    ")"
   ]
  },
  {
   "cell_type": "code",
   "execution_count": null,
   "metadata": {},
   "outputs": [],
   "source": [
    "alt.Chart(muts_df[muts_df[\"dateAdded\"] >= jobs_df[\"dateRun\"].min()]).mark_bar().encode(\n",
    "    #\n",
    "    x=\"yearmonth(dateAdded):T\",\n",
    "    y=alt.Y(\"count():T\", title=\"Number of mutations\"),\n",
    "    color=\"status\",\n",
    ")"
   ]
  },
  {
   "cell_type": "markdown",
   "metadata": {},
   "source": [
    "### Last year"
   ]
  },
  {
   "cell_type": "code",
   "execution_count": null,
   "metadata": {},
   "outputs": [],
   "source": [
    "alt.Chart(jobs_df[jobs_df[\"dateRun\"] >= datetime.fromisoformat(\"2019-05-01\")]).mark_bar().encode(\n",
    "    #\n",
    "    x=\"yearmonth(dateRun):T\",\n",
    "    y=alt.Y(\"count():T\", title=\"Number of jobs last year\"),\n",
    "    color=\"status\",\n",
    ")"
   ]
  },
  {
   "cell_type": "code",
   "execution_count": null,
   "metadata": {},
   "outputs": [],
   "source": [
    "alt.Chart(muts_df[muts_df[\"dateAdded\"] >= datetime.fromisoformat(\"2019-05-01\")]).mark_bar().encode(\n",
    "    #\n",
    "    x=\"yearmonth(dateAdded):T\",\n",
    "    y=alt.Y(\"count():T\", title=\"Number of mutations last year\"),\n",
    "    color=\"status\",\n",
    ")"
   ]
  },
  {
   "cell_type": "markdown",
   "metadata": {},
   "source": [
    "## List failed jobs"
   ]
  },
  {
   "cell_type": "code",
   "execution_count": null,
   "metadata": {},
   "outputs": [],
   "source": [
    "last_two_months_df = (\n",
    "    muts_df[muts_df[\"dateAdded\"] >= datetime.fromisoformat(\"2020-01-01\")]\n",
    "    .merge(job_to_mut_df, left_on=\"id\", right_on=\"mut_id\", how=\"left\", suffixes=(\"_mut\", \"_job_to_mut\"))\n",
    "    .merge(jobs_df, left_on=\"job_id\", right_on=\"jobID\", suffixes=(\"_mut\", \"_job\"))\n",
    ")\n",
    "\n",
    "len(last_two_months_df)  # 272296"
   ]
  },
  {
   "cell_type": "code",
   "execution_count": null,
   "metadata": {},
   "outputs": [],
   "source": [
    "failed_with_emails_df = last_two_months_df[\n",
    "    (last_two_months_df[\"status_mut\"] != \"done\")\n",
    "#     & last_two_months_df[\"email\"].notnull()\n",
    "#     & (last_two_months_df[\"email\"] != \"\")\n",
    "]#.drop_duplicates(subset=[\"jobID\"])\n",
    "\n",
    "len(failed_with_emails_df)  # 52098"
   ]
  },
  {
   "cell_type": "code",
   "execution_count": null,
   "metadata": {},
   "outputs": [],
   "source": [
    "failed_with_emails_df.groupby('email')[\"id_mut\"].count().sort_values(ascending=False)"
   ]
  },
  {
   "cell_type": "code",
   "execution_count": null,
   "metadata": {},
   "outputs": [],
   "source": [
    "len(failed_with_emails_df)  # 52098"
   ]
  },
  {
   "cell_type": "code",
   "execution_count": null,
   "metadata": {},
   "outputs": [],
   "source": [
    "# for key, gp in failed_with_emails_df.groupby([\"inputIdentifier\", \"email\"]):\n",
    "#     print(key, \",\".join(gp[\"protein\"] + \".\" + gp[\"mut\"]))"
   ]
  },
  {
   "cell_type": "code",
   "execution_count": null,
   "metadata": {},
   "outputs": [],
   "source": []
  }
 ],
 "metadata": {
  "kernelspec": {
   "display_name": "Python 3 (ipykernel)",
   "language": "python",
   "name": "python3"
  },
  "language_info": {
   "codemirror_mode": {
    "name": "ipython",
    "version": 3
   },
   "file_extension": ".py",
   "mimetype": "text/x-python",
   "name": "python",
   "nbconvert_exporter": "python",
   "pygments_lexer": "ipython3",
   "version": "3.9.6"
  }
 },
 "nbformat": 4,
 "nbformat_minor": 4
}
