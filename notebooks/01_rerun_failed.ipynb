{
 "cells": [
  {
   "cell_type": "markdown",
   "metadata": {},
   "source": [
    "## Summary\n",
    "\n",
    "***Start port forwarding to the ELASPIC webserver machine:***\n",
    "\n",
    "```bash\n",
    "ssh -NL 9009:localhost:9009 kimadmin@192.168.6.153\n",
    "```"
   ]
  },
  {
   "cell_type": "markdown",
   "metadata": {},
   "source": [
    "## Imports"
   ]
  },
  {
   "cell_type": "code",
   "execution_count": null,
   "metadata": {
    "jupyter": {
     "outputs_hidden": false
    }
   },
   "outputs": [],
   "source": [
    "import datetime\n",
    "import json\n",
    "import os\n",
    "from pathlib import Path\n",
    "from pprint import pprint\n",
    "\n",
    "import kmtools\n",
    "import kmtools.df_tools\n",
    "import matplotlib.dates as mdates\n",
    "import matplotlib.pyplot as plt\n",
    "import pandas as pd\n",
    "import requests\n",
    "import sqlalchemy as sa\n",
    "from dotenv import load_dotenv\n",
    "from IPython.display import SVG, display\n",
    "\n",
    "print2 = kmtools.df_tools.print2"
   ]
  },
  {
   "cell_type": "code",
   "execution_count": null,
   "metadata": {},
   "outputs": [],
   "source": [
    "load_dotenv(\"../.env.prod\")"
   ]
  },
  {
   "cell_type": "code",
   "execution_count": null,
   "metadata": {},
   "outputs": [],
   "source": [
    "pd.set_option(\"display.max_columns\", 300)\n",
    "pd.options.mode.chained_assignment = None  # default='warn'"
   ]
  },
  {
   "cell_type": "markdown",
   "metadata": {},
   "source": [
    "## Parameters"
   ]
  },
  {
   "cell_type": "code",
   "execution_count": null,
   "metadata": {},
   "outputs": [],
   "source": [
    "NOTEBOOK_DIR = Path(\"01_rerun_failed\").resolve()\n",
    "NOTEBOOK_DIR.mkdir(exist_ok=True)\n",
    "\n",
    "NOTEBOOK_DIR"
   ]
  },
  {
   "cell_type": "code",
   "execution_count": null,
   "metadata": {},
   "outputs": [],
   "source": [
    "TIMESTAMP = datetime.datetime.utcnow().strftime(\"%Y-%m-%d\")\n",
    "\n",
    "TIMESTAMP"
   ]
  },
  {
   "cell_type": "code",
   "execution_count": null,
   "metadata": {},
   "outputs": [],
   "source": [
    "JOBSUBMITTER_URL = \"http://localhost:8001/elaspic/api/1.0/\""
   ]
  },
  {
   "cell_type": "code",
   "execution_count": null,
   "metadata": {
    "run_control": {
     "marked": false
    }
   },
   "outputs": [],
   "source": [
    "DB_USER = os.environ[\"DB_USER\"]\n",
    "DB_PASSWORD = os.environ[\"DB_PASSWORD\"]\n",
    "DB_HOST = os.environ[\"DB_HOST\"]\n",
    "DB_PORT = os.environ[\"DB_PORT\"]\n",
    "DB_NAME = os.environ[\"DB_NAME\"]\n",
    "\n",
    "engine = sa.create_engine(f\"mysql://{DB_USER}:{DB_PASSWORD}@{DB_HOST}:{DB_PORT}/{DB_NAME}\")"
   ]
  },
  {
   "cell_type": "markdown",
   "metadata": {},
   "source": [
    "## Load data"
   ]
  },
  {
   "cell_type": "markdown",
   "metadata": {},
   "source": [
    "### local_jobs"
   ]
  },
  {
   "cell_type": "code",
   "execution_count": null,
   "metadata": {
    "jupyter": {
     "outputs_hidden": false
    }
   },
   "outputs": [],
   "source": [
    "sql_query = \"\"\"\n",
    "select distinct jobId, j.email job_email, j.dateRun date_run, localId, protein, m.mut, m.chain\n",
    "from jobs j\n",
    "join job_to_mut j2m on (j2m.job_id = j.jobID)\n",
    "join muts m on (m.id = j2m.mut_id)\n",
    "left join elaspic_core_model_local e ON (e.protein_id = localId)\n",
    "WHERE localID is not NULL AND (status != 'done' or path_to_data = '' or path_to_data is null)\n",
    "AND j.email is not NULL AND j.email != ''\n",
    "\"\"\"\n",
    "local_df = pd.read_sql_query(sql_query, engine)"
   ]
  },
  {
   "cell_type": "code",
   "execution_count": null,
   "metadata": {
    "jupyter": {
     "outputs_hidden": false
    }
   },
   "outputs": [],
   "source": [
    "display(local_df.head())\n",
    "print(local_df.shape[0])"
   ]
  },
  {
   "cell_type": "code",
   "execution_count": null,
   "metadata": {},
   "outputs": [],
   "source": [
    "fg, ax = plt.subplots(figsize=(12, 3))\n",
    "ax.hist(local_df[\"date_run\"], bins=240, range=(\"2017\", \"2021\"))\n",
    "for label in ax.get_xticklabels():\n",
    "    label.set_rotation(90)\n",
    "ax.xaxis.set_major_locator(mdates.MonthLocator())\n",
    "# ax.xaxis.set_major_formatter(mdates.DateFormatter('%d.%m.%y'))\n",
    "ax.set_xlim(\"2017\", \"2021\")\n",
    "\n",
    "ax.set_ylabel(\"Number of mutations\")\n",
    "None"
   ]
  },
  {
   "cell_type": "raw",
   "metadata": {},
   "source": [
    "for table in [\n",
    "    \"elaspic_interface_mutation_local\",\n",
    "]:\n",
    "    sql_command = \"\"\"\\\n",
    "delete from {}\n",
    "where protein_id in ('{}')\n",
    "\"\"\".format(\n",
    "        table, \"', '\".join(local_df[\"jobId\"].drop_duplicates())\n",
    "    )\n",
    "    engine.execute(sql_command)\n",
    "\n",
    "\n",
    "for table in [\n",
    "    \"elaspic_interface_model_local\",\n",
    "]:\n",
    "    sql_command = \"\"\"\\\n",
    "delete from {0}\n",
    "where protein_id_1 in ('{1}') OR\n",
    "protein_id_2 in ('{1}')\n",
    "\"\"\".format(\n",
    "        table, \"', '\".join(local_df[\"jobId\"].drop_duplicates())\n",
    "    )\n",
    "    engine.execute(sql_command)\n",
    "\n",
    "\n",
    "for table in [\n",
    "    \"elaspic_core_mutation_local\",\n",
    "    \"elaspic_core_model_local\",\n",
    "    \"elaspic_sequence_local\",\n",
    "]:\n",
    "    sql_command = \"\"\"\\\n",
    "delete from {}\n",
    "where protein_id in ('{}')\n",
    "\"\"\".format(\n",
    "        table, \"', '\".join(local_df[\"jobId\"].drop_duplicates())\n",
    "    )\n",
    "    engine.execute(sql_command)"
   ]
  },
  {
   "cell_type": "code",
   "execution_count": null,
   "metadata": {
    "jupyter": {
     "outputs_hidden": false
    }
   },
   "outputs": [],
   "source": [
    "local_jobs = []\n",
    "for (\n",
    "    job_id,\n",
    "    job_email,\n",
    "), df_gp in local_df.groupby([\"jobId\", \"job_email\"]):\n",
    "    df_gp[\"structure_file\"] = \"input.pdb\"\n",
    "    df_gp[\"mutations\"] = df_gp[[\"chain\", \"mut\"]].apply(\n",
    "        lambda x: \"{}_{}\".format(int(x[0] if pd.notnull(x[0]) else 0) + 1, x[1]), axis=1\n",
    "    )\n",
    "    local_jobs.append(\n",
    "        {\n",
    "            \"secret_key\": \"J6;u.950z5750Q#344vy7*idT1FBs0\",\n",
    "            \"job_id\": job_id,\n",
    "            \"job_email\": job_email,\n",
    "            \"job_type\": \"local\",\n",
    "            \"mutations\": (\n",
    "                df_gp.rename(columns={\"protein\": \"protein_id\"})[\n",
    "                    [\"protein_id\", \"mutations\", \"structure_file\"]\n",
    "                ].to_dict(orient=\"records\")\n",
    "            ),\n",
    "        }\n",
    "    )\n",
    "\n",
    "# ---\n",
    "pprint(local_jobs[:3])\n",
    "print()\n",
    "print2(\"Number of errored local mutations:\", len(local_jobs))  # 37"
   ]
  },
  {
   "cell_type": "code",
   "execution_count": null,
   "metadata": {},
   "outputs": [],
   "source": [
    "local_output_file = NOTEBOOK_DIR.joinpath(f\"local-jobs-{TIMESTAMP}.json\")\n",
    "\n",
    "with local_output_file.open(\"wt\") as fout:\n",
    "    json.dump(local_jobs, fout)\n",
    "    \n",
    "local_output_file"
   ]
  },
  {
   "cell_type": "code",
   "execution_count": null,
   "metadata": {},
   "outputs": [],
   "source": [
    "# for data_in in local_jobs:\n",
    "#     r = requests.post(JOBSUBMITTER_URL, json=data_in)\n",
    "#     if not r.ok:\n",
    "#         print(f\"Bad response from jobsubmitter server: {r}\")\n",
    "#         continue\n",
    "#     status = r.json().get(\"status\", None)\n",
    "#     print(f\"status: {status}\")\n",
    "#     print()"
   ]
  },
  {
   "cell_type": "markdown",
   "metadata": {},
   "source": [
    "### database_jobs"
   ]
  },
  {
   "cell_type": "code",
   "execution_count": null,
   "metadata": {},
   "outputs": [],
   "source": [
    "sql_query = \"\"\"\n",
    "select distinct jobId, j.email job_email, j.dateRun date_run, protein, m.mut\n",
    "from jobs j\n",
    "join job_to_mut j2m on (j2m.job_id = j.jobID)\n",
    "join muts m on (m.id = j2m.mut_id)\n",
    "join elaspic.uniprot_domain ud ON (ud.uniprot_id = protein)\n",
    "join elaspic.uniprot_domain_model udm USING (uniprot_domain_id)\n",
    "WHERE localID is NULL AND status != 'done' AND elaspic.mutation_in_domain(m.mut, udm.model_domain_def)\n",
    "AND j.email is not NULL AND j.email != ''\n",
    "\"\"\"\n",
    "database_df = pd.read_sql_query(sql_query, engine)"
   ]
  },
  {
   "cell_type": "code",
   "execution_count": null,
   "metadata": {
    "jupyter": {
     "outputs_hidden": false
    }
   },
   "outputs": [],
   "source": [
    "display(database_df.head())\n",
    "print(database_df.shape[0])  # 3419"
   ]
  },
  {
   "cell_type": "code",
   "execution_count": null,
   "metadata": {},
   "outputs": [],
   "source": [
    "fg, ax = plt.subplots(figsize=(12, 3))\n",
    "ax.hist(database_df[\"date_run\"], bins=240, range=(\"2017\", \"2021\"))\n",
    "for label in ax.get_xticklabels():\n",
    "    label.set_rotation(90)\n",
    "ax.xaxis.set_major_locator(mdates.MonthLocator())\n",
    "# ax.xaxis.set_major_formatter(mdates.DateFormatter('%d.%m.%y'))\n",
    "ax.set_xlim(\"2017\", \"2021\")\n",
    "\n",
    "ax.set_ylabel(\"Number of mutations\")\n",
    "\n",
    "fg.subplots_adjust(0.07, 0.25, 0.98, 0.97)\n",
    "None"
   ]
  },
  {
   "cell_type": "code",
   "execution_count": null,
   "metadata": {
    "jupyter": {
     "outputs_hidden": false
    }
   },
   "outputs": [],
   "source": [
    "database_jobs = []\n",
    "for (job_id, job_email), df_gp in database_df.groupby([\"jobId\", \"job_email\"]):\n",
    "    database_jobs.append(\n",
    "        {\n",
    "            \"secret_key\": \"J6;u.950z5750Q#344vy7*idT1FBs0\",\n",
    "            \"job_id\": job_id,\n",
    "            \"job_email\": job_email,\n",
    "            \"job_type\": \"database\",\n",
    "            \"mutations\": (\n",
    "                df_gp.rename(columns={\"protein\": \"protein_id\", \"mut\": \"mutations\"})[\n",
    "                    [\"protein_id\", \"mutations\"]\n",
    "                ].to_dict(orient=\"records\")\n",
    "            ),\n",
    "        }\n",
    "    )\n",
    "\n",
    "pprint(database_jobs[:3])\n",
    "print()\n",
    "print2(\"Number of errored database mutations:\", len(database_jobs))  # 286"
   ]
  },
  {
   "cell_type": "code",
   "execution_count": null,
   "metadata": {},
   "outputs": [],
   "source": [
    "database_output_file = NOTEBOOK_DIR.joinpath(f\"database-jobs-{TIMESTAMP}.json\")\n",
    "\n",
    "with database_output_file.open(\"wt\") as fout:\n",
    "    json.dump(database_jobs, fout)\n",
    "    \n",
    "database_output_file"
   ]
  },
  {
   "cell_type": "code",
   "execution_count": null,
   "metadata": {},
   "outputs": [],
   "source": [
    "[d for d in database_jobs if d[\"job_id\"] in [\"70b268\", \"7715a9\"]]"
   ]
  },
  {
   "cell_type": "code",
   "execution_count": null,
   "metadata": {
    "jupyter": {
     "outputs_hidden": false
    },
    "run_control": {
     "marked": false
    }
   },
   "outputs": [],
   "source": [
    "# for data_in in database_jobs:\n",
    "#     r = requests.post(JOBSUBMITTER_URL, json=data_in)\n",
    "#     if not r.ok:\n",
    "#         print(f\"Bad response from jobsubmitter server: {r}\")\n",
    "#         continue\n",
    "#     status = r.json().get(\"status\", None)\n",
    "#     print(f\"status: {status}\")\n",
    "#     print()"
   ]
  },
  {
   "cell_type": "code",
   "execution_count": null,
   "metadata": {},
   "outputs": [],
   "source": []
  }
 ],
 "metadata": {
  "anaconda-cloud": {},
  "kernelspec": {
   "display_name": "Python 3",
   "language": "python",
   "name": "python3"
  },
  "language_info": {
   "codemirror_mode": {
    "name": "ipython",
    "version": 3
   },
   "file_extension": ".py",
   "mimetype": "text/x-python",
   "name": "python",
   "nbconvert_exporter": "python",
   "pygments_lexer": "ipython3",
   "version": "3.8.6"
  },
  "toc": {
   "navigate_menu": false,
   "number_sections": true,
   "sideBar": false,
   "threshold": 6,
   "toc_cell": false,
   "toc_section_display": "block",
   "toc_window_display": true
  },
  "toc_position": {
   "height": "209px",
   "left": "145.264px",
   "right": "20px",
   "top": "88.9861px",
   "width": "230px"
  }
 },
 "nbformat": 4,
 "nbformat_minor": 4
}
